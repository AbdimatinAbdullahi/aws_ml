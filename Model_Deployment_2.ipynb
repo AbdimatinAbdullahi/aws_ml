{
 "cells": [
  {
   "cell_type": "code",
   "execution_count": 4,
   "id": "a068fce3",
   "metadata": {},
   "outputs": [],
   "source": [
    "import os\n",
    "import boto3\n",
    "import logging\n",
    "from datetime import datetime\n",
    "boto3.set_stream_logger(name=\"botocore.credentials\", level=logging.WARNING)"
   ]
  },
  {
   "cell_type": "code",
   "execution_count": 5,
   "id": "c2898495",
   "metadata": {},
   "outputs": [
    {
     "name": "stderr",
     "output_type": "stream",
     "text": [
      "/home/ec2-user/anaconda3/envs/python3/lib/python3.10/site-packages/sagemaker/base_serializers.py:28: UserWarning: A NumPy version >=1.23.5 and <2.3.0 is required for this version of SciPy (detected version 1.22.4)\n",
      "  import scipy.sparse\n"
     ]
    },
    {
     "name": "stdout",
     "output_type": "stream",
     "text": [
      "sagemaker.config INFO - Not applying SDK defaults from location: /etc/xdg/sagemaker/config.yaml\n",
      "sagemaker.config INFO - Not applying SDK defaults from location: /home/ec2-user/.config/sagemaker/config.yaml\n"
     ]
    }
   ],
   "source": [
    "import sagemaker\n",
    "from sagemaker.transformer import Transformer"
   ]
  },
  {
   "cell_type": "code",
   "execution_count": 6,
   "id": "6fb2ab49",
   "metadata": {},
   "outputs": [],
   "source": [
    "sgmkr_clnt = boto3.client(\"sagemaker\")\n",
    "sgmkr_rntm = boto3.client(\"runtime.sagemaker\")"
   ]
  },
  {
   "cell_type": "code",
   "execution_count": 7,
   "id": "bec0e32f",
   "metadata": {},
   "outputs": [
    {
     "name": "stdout",
     "output_type": "stream",
     "text": [
      "iris-xgboost2024-09-27-13-08-17\n"
     ]
    }
   ],
   "source": [
    "role_arn = sagemaker.get_execution_role()\n",
    "model_img = \"811284229777.dkr.ecr.us-east-1.amazonaws.com/xgboost:latest\"\n",
    "model_path = (\"s3://sagemakerlearningwithiris/iris/model/iris-xgboost2024-09-25-19-15-18/output/model.tar.gz\")\n",
    "model_name = \"iris-xgboost\" + datetime.today().strftime(\"%Y-%m-%d-%H-%M-%S\")\n",
    "print(model_name)"
   ]
  },
  {
   "cell_type": "code",
   "execution_count": 8,
   "id": "23945656",
   "metadata": {},
   "outputs": [
    {
     "name": "stdout",
     "output_type": "stream",
     "text": [
      "{'ModelArn': 'arn:aws:sagemaker:us-east-1:216393269487:model/iris-xgboost2024-09-27-13-08-17', 'ResponseMetadata': {'RequestId': 'd49419e2-42c0-49dd-9886-6fd47638b6ab', 'HTTPStatusCode': 200, 'HTTPHeaders': {'x-amzn-requestid': 'd49419e2-42c0-49dd-9886-6fd47638b6ab', 'content-type': 'application/x-amz-json-1.1', 'content-length': '93', 'date': 'Fri, 27 Sep 2024 13:08:17 GMT'}, 'RetryAttempts': 0}}\n"
     ]
    }
   ],
   "source": [
    "response = sgmkr_clnt.create_model(\n",
    "    ModelName = model_name,\n",
    "    PrimaryContainer = {\"Image\":model_img, \"ModelDataUrl\":model_path},\n",
    "    ExecutionRoleArn = role_arn\n",
    ")\n",
    "print(response)"
   ]
  },
  {
   "cell_type": "code",
   "execution_count": 9,
   "id": "5c53ef3b",
   "metadata": {},
   "outputs": [],
   "source": [
    "bucket = \"sagemakerlearningwithiris\"\n",
    "prefix = \"iris\""
   ]
  },
  {
   "cell_type": "markdown",
   "id": "4e45b90b",
   "metadata": {},
   "source": [
    "### Batch Transform"
   ]
  },
  {
   "cell_type": "code",
   "execution_count": 10,
   "id": "55a4e4cd",
   "metadata": {},
   "outputs": [],
   "source": [
    "batch_ip = \"s3://{}/{}/{}\".format(bucket, prefix, \"batch_transform\")\n",
    "batch_op = \"s3://{}/{}/{}\".format(bucket, prefix, \"batch_transform\")"
   ]
  },
  {
   "cell_type": "code",
   "execution_count": 11,
   "id": "cc8a8c52",
   "metadata": {},
   "outputs": [],
   "source": [
    "transformer = Transformer(\n",
    "    model_name=model_name,\n",
    "    instance_count=1,\n",
    "    instance_type=\"ml.m4.xlarge\",\n",
    "    output_path=batch_op\n",
    ")"
   ]
  },
  {
   "cell_type": "code",
   "execution_count": 12,
   "id": "1d56d303",
   "metadata": {},
   "outputs": [],
   "source": [
    "# transformer.transform(data=batch_ip, data_type=\"S3Prefix\", content_type=\"text/csv\")"
   ]
  },
  {
   "cell_type": "code",
   "execution_count": 15,
   "id": "bad68cbf",
   "metadata": {},
   "outputs": [],
   "source": [
    "from datetime import datetime \n",
    "sgmkr_clnt = boto3.client(\"sagemaker\")\n",
    "sgmkr_rntime = boto3.client(\"runtime.sagemaker\")\n",
    "ep_config_name = \"tmp-ep-config\" + datetime.today().strftime(\"%Y-%m-%d-%H-%M-%S\")\n",
    "response = sgmkr_clnt.create_endpoint_config(\n",
    "    EndpointConfigName=ep_config_name,\n",
    "    ProductionVariants=[\n",
    "        {\n",
    "            \"VariantName\":\"version-1\",\n",
    "            \"ModelName\":model_name,\n",
    "            \"InitialInstanceCount\":1,\n",
    "            \"InstanceType\": \"ml.m4.xlarge\",\n",
    "        }\n",
    "    ]\n",
    ")"
   ]
  },
  {
   "cell_type": "code",
   "execution_count": 16,
   "id": "8d488a77",
   "metadata": {},
   "outputs": [
    {
     "name": "stdout",
     "output_type": "stream",
     "text": [
      "{'EndpointConfigArn': 'arn:aws:sagemaker:us-east-1:216393269487:endpoint-config/tmp-ep-config2024-09-27-13-10-35', 'ResponseMetadata': {'RequestId': 'e0a4e8b3-7c52-4944-97af-1c4949a03933', 'HTTPStatusCode': 200, 'HTTPHeaders': {'x-amzn-requestid': 'e0a4e8b3-7c52-4944-97af-1c4949a03933', 'content-type': 'application/x-amz-json-1.1', 'content-length': '113', 'date': 'Fri, 27 Sep 2024 13:10:35 GMT'}, 'RetryAttempts': 0}}\n"
     ]
    }
   ],
   "source": [
    "print(response)"
   ]
  },
  {
   "cell_type": "code",
   "execution_count": 19,
   "id": "ffb46fd4",
   "metadata": {},
   "outputs": [
    {
     "name": "stdout",
     "output_type": "stream",
     "text": [
      "tmp-end2024-09-27-13-14-35-432808\n"
     ]
    }
   ],
   "source": [
    "ep_name = \"tmp-end\" + datetime.today().strftime(\"%Y-%m-%d-%H-%M-%S-%f\")\n",
    "print(ep_name)"
   ]
  },
  {
   "cell_type": "code",
   "execution_count": 23,
   "id": "af93c4f4",
   "metadata": {},
   "outputs": [
    {
     "ename": "ClientError",
     "evalue": "An error occurred (ValidationException) when calling the CreateEndpoint operation: Cannot create already existing endpoint \"arn:aws:sagemaker:us-east-1:216393269487:endpoint/tmp-end2024-09-27-13-14-35-432808\".",
     "output_type": "error",
     "traceback": [
      "\u001b[0;31m---------------------------------------------------------------------------\u001b[0m",
      "\u001b[0;31mClientError\u001b[0m                               Traceback (most recent call last)",
      "Cell \u001b[0;32mIn[23], line 1\u001b[0m\n\u001b[0;32m----> 1\u001b[0m response \u001b[38;5;241m=\u001b[39m \u001b[43msgmkr_clnt\u001b[49m\u001b[38;5;241;43m.\u001b[39;49m\u001b[43mcreate_endpoint\u001b[49m\u001b[43m(\u001b[49m\n\u001b[1;32m      2\u001b[0m \u001b[43m    \u001b[49m\u001b[43mEndpointName\u001b[49m\u001b[38;5;241;43m=\u001b[39;49m\u001b[43mep_name\u001b[49m\u001b[43m,\u001b[49m\u001b[43m \u001b[49m\n\u001b[1;32m      3\u001b[0m \u001b[43m    \u001b[49m\u001b[43mEndpointConfigName\u001b[49m\u001b[38;5;241;43m=\u001b[39;49m\u001b[43mep_config_name\u001b[49m\n\u001b[1;32m      4\u001b[0m \u001b[43m    \u001b[49m\u001b[43m)\u001b[49m\n\u001b[1;32m      5\u001b[0m waiter \u001b[38;5;241m=\u001b[39m sgmkr_clnt\u001b[38;5;241m.\u001b[39mget_waiter(\u001b[38;5;124m\"\u001b[39m\u001b[38;5;124mendpoint_in_service\u001b[39m\u001b[38;5;124m\"\u001b[39m)\n\u001b[1;32m      6\u001b[0m waiter\u001b[38;5;241m.\u001b[39mwait(EndpointName\u001b[38;5;241m=\u001b[39mep_name, WaiterConfig\u001b[38;5;241m=\u001b[39m{\u001b[38;5;124m\"\u001b[39m\u001b[38;5;124mDelay\u001b[39m\u001b[38;5;124m\"\u001b[39m: \u001b[38;5;241m123\u001b[39m, \u001b[38;5;124m\"\u001b[39m\u001b[38;5;124mMaxAttempts\u001b[39m\u001b[38;5;124m\"\u001b[39m: \u001b[38;5;241m123\u001b[39m})\n",
      "File \u001b[0;32m~/anaconda3/envs/python3/lib/python3.10/site-packages/botocore/client.py:569\u001b[0m, in \u001b[0;36mClientCreator._create_api_method.<locals>._api_call\u001b[0;34m(self, *args, **kwargs)\u001b[0m\n\u001b[1;32m    565\u001b[0m     \u001b[38;5;28;01mraise\u001b[39;00m \u001b[38;5;167;01mTypeError\u001b[39;00m(\n\u001b[1;32m    566\u001b[0m         \u001b[38;5;124mf\u001b[39m\u001b[38;5;124m\"\u001b[39m\u001b[38;5;132;01m{\u001b[39;00mpy_operation_name\u001b[38;5;132;01m}\u001b[39;00m\u001b[38;5;124m() only accepts keyword arguments.\u001b[39m\u001b[38;5;124m\"\u001b[39m\n\u001b[1;32m    567\u001b[0m     )\n\u001b[1;32m    568\u001b[0m \u001b[38;5;66;03m# The \"self\" in this scope is referring to the BaseClient.\u001b[39;00m\n\u001b[0;32m--> 569\u001b[0m \u001b[38;5;28;01mreturn\u001b[39;00m \u001b[38;5;28;43mself\u001b[39;49m\u001b[38;5;241;43m.\u001b[39;49m\u001b[43m_make_api_call\u001b[49m\u001b[43m(\u001b[49m\u001b[43moperation_name\u001b[49m\u001b[43m,\u001b[49m\u001b[43m \u001b[49m\u001b[43mkwargs\u001b[49m\u001b[43m)\u001b[49m\n",
      "File \u001b[0;32m~/anaconda3/envs/python3/lib/python3.10/site-packages/botocore/client.py:1023\u001b[0m, in \u001b[0;36mBaseClient._make_api_call\u001b[0;34m(self, operation_name, api_params)\u001b[0m\n\u001b[1;32m   1019\u001b[0m     error_code \u001b[38;5;241m=\u001b[39m error_info\u001b[38;5;241m.\u001b[39mget(\u001b[38;5;124m\"\u001b[39m\u001b[38;5;124mQueryErrorCode\u001b[39m\u001b[38;5;124m\"\u001b[39m) \u001b[38;5;129;01mor\u001b[39;00m error_info\u001b[38;5;241m.\u001b[39mget(\n\u001b[1;32m   1020\u001b[0m         \u001b[38;5;124m\"\u001b[39m\u001b[38;5;124mCode\u001b[39m\u001b[38;5;124m\"\u001b[39m\n\u001b[1;32m   1021\u001b[0m     )\n\u001b[1;32m   1022\u001b[0m     error_class \u001b[38;5;241m=\u001b[39m \u001b[38;5;28mself\u001b[39m\u001b[38;5;241m.\u001b[39mexceptions\u001b[38;5;241m.\u001b[39mfrom_code(error_code)\n\u001b[0;32m-> 1023\u001b[0m     \u001b[38;5;28;01mraise\u001b[39;00m error_class(parsed_response, operation_name)\n\u001b[1;32m   1024\u001b[0m \u001b[38;5;28;01melse\u001b[39;00m:\n\u001b[1;32m   1025\u001b[0m     \u001b[38;5;28;01mreturn\u001b[39;00m parsed_response\n",
      "\u001b[0;31mClientError\u001b[0m: An error occurred (ValidationException) when calling the CreateEndpoint operation: Cannot create already existing endpoint \"arn:aws:sagemaker:us-east-1:216393269487:endpoint/tmp-end2024-09-27-13-14-35-432808\"."
     ]
    }
   ],
   "source": [
    "response = sgmkr_clnt.create_endpoint(\n",
    "    EndpointName=ep_name, \n",
    "    EndpointConfigName=ep_config_name\n",
    "    )\n",
    "waiter = sgmkr_clnt.get_waiter(\"endpoint_in_service\")\n",
    "waiter.wait(EndpointName=ep_name, WaiterConfig={\"Delay\": 123, \"MaxAttempts\": 123})\n",
    "print(\"Endpoint created\")"
   ]
  },
  {
   "cell_type": "markdown",
   "id": "a8d943a6",
   "metadata": {},
   "source": [
    "### Error Above occurs due trying to create an endpoint that already exist"
   ]
  },
  {
   "cell_type": "code",
   "execution_count": 26,
   "id": "ecd03bcc",
   "metadata": {},
   "outputs": [
    {
     "name": "stdout",
     "output_type": "stream",
     "text": [
      "2.0\n"
     ]
    }
   ],
   "source": [
    "payload = \"7.7, 3.0, 6.1, 2.3\"\n",
    "response = sgmkr_rntm.invoke_endpoint(EndpointName=ep_name, ContentType=\"text/csv\", Body=payload)\n",
    "print(response[\"Body\"].read().decode())"
   ]
  },
  {
   "cell_type": "code",
   "execution_count": 28,
   "id": "60a3fafb",
   "metadata": {},
   "outputs": [
    {
     "name": "stdout",
     "output_type": "stream",
     "text": [
      "Deleting sagemaker endpoint\n",
      "Deleted sagemaker endpoint\n"
     ]
    }
   ],
   "source": [
    "print(\"Deleting sagemaker endpoint\")\n",
    "response = sgmkr_clnt.delete_endpoint(EndpointName = ep_name)  \n",
    "print(\"Deleted sagemaker endpoint\")\n",
    "#print(response)"
   ]
  },
  {
   "cell_type": "code",
   "execution_count": 30,
   "id": "1c37cb85",
   "metadata": {},
   "outputs": [
    {
     "data": {
      "text/plain": [
       "{'ResponseMetadata': {'RequestId': '4d92c7ea-27f8-4862-a35b-d91fb21ad6bc',\n",
       "  'HTTPStatusCode': 200,\n",
       "  'HTTPHeaders': {'x-amzn-requestid': '4d92c7ea-27f8-4862-a35b-d91fb21ad6bc',\n",
       "   'content-type': 'application/x-amz-json-1.1',\n",
       "   'date': 'Fri, 27 Sep 2024 13:24:26 GMT',\n",
       "   'content-length': '0'},\n",
       "  'RetryAttempts': 0}}"
      ]
     },
     "execution_count": 30,
     "metadata": {},
     "output_type": "execute_result"
    }
   ],
   "source": [
    "sgmkr_clnt.delete_endpoint_config(EndpointConfigName=ep_config_name)"
   ]
  },
  {
   "cell_type": "code",
   "execution_count": null,
   "id": "e21cfae3",
   "metadata": {},
   "outputs": [],
   "source": []
  }
 ],
 "metadata": {
  "kernelspec": {
   "display_name": "conda_python3",
   "language": "python",
   "name": "conda_python3"
  },
  "language_info": {
   "codemirror_mode": {
    "name": "ipython",
    "version": 3
   },
   "file_extension": ".py",
   "mimetype": "text/x-python",
   "name": "python",
   "nbconvert_exporter": "python",
   "pygments_lexer": "ipython3",
   "version": "3.10.14"
  }
 },
 "nbformat": 4,
 "nbformat_minor": 5
}
