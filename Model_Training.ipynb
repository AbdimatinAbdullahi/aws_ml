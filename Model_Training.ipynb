{
 "cells": [
  {
   "cell_type": "code",
   "execution_count": 75,
   "id": "499fe436",
   "metadata": {},
   "outputs": [],
   "source": [
    "import boto3\n",
    "import sagemaker"
   ]
  },
  {
   "cell_type": "code",
   "execution_count": 76,
   "id": "3c983098",
   "metadata": {},
   "outputs": [],
   "source": [
    "from sagemaker.session import TrainingInput\n",
    "from sagemaker import image_uris\n",
    "from sagemaker import hyperparameters"
   ]
  },
  {
   "cell_type": "code",
   "execution_count": 77,
   "id": "19819ebd",
   "metadata": {},
   "outputs": [],
   "source": [
    "import logging"
   ]
  },
  {
   "cell_type": "code",
   "execution_count": 78,
   "id": "f0049a78",
   "metadata": {},
   "outputs": [],
   "source": [
    "boto3.set_stream_logger(name='botocore.credentials', level=logging.WARNING)"
   ]
  },
  {
   "cell_type": "code",
   "execution_count": 79,
   "id": "d8517292",
   "metadata": {},
   "outputs": [
    {
     "name": "stdout",
     "output_type": "stream",
     "text": [
      "us-east-1\n"
     ]
    }
   ],
   "source": [
    "region = sagemaker.Session().boto_region_name\n",
    "print(region)"
   ]
  },
  {
   "cell_type": "code",
   "execution_count": 80,
   "id": "f550e803",
   "metadata": {},
   "outputs": [],
   "source": [
    "import os"
   ]
  },
  {
   "cell_type": "code",
   "execution_count": 81,
   "id": "76074af8",
   "metadata": {},
   "outputs": [],
   "source": [
    "# role_arn = os.getenv('SGMKR_ROLE_ARN')\n",
    "role_arn = sagemaker.get_execution_role()"
   ]
  },
  {
   "cell_type": "code",
   "execution_count": 82,
   "id": "7e944f37",
   "metadata": {},
   "outputs": [
    {
     "name": "stdout",
     "output_type": "stream",
     "text": [
      "arn:aws:iam::216393269487:role/service-role/AmazonSageMaker-ExecutionRole-20240925T153897\n"
     ]
    }
   ],
   "source": [
    "print(role_arn)"
   ]
  },
  {
   "cell_type": "code",
   "execution_count": 113,
   "id": "8c70f17a",
   "metadata": {},
   "outputs": [],
   "source": [
    "bucket = 'sagemakerlearningwithiris'\n",
    "prefix = 'iris'"
   ]
  },
  {
   "cell_type": "code",
   "execution_count": 114,
   "id": "16a3c956",
   "metadata": {},
   "outputs": [
    {
     "name": "stdout",
     "output_type": "stream",
     "text": [
      "                           PRE batch_transform/\r\n",
      "                           PRE data/\r\n"
     ]
    }
   ],
   "source": [
    "#Get the ls of objects in the Bucket with name bucket and prefix\n",
    "!aws s3 ls {bucket}/{prefix}/"
   ]
  },
  {
   "cell_type": "code",
   "execution_count": 115,
   "id": "ec8586de",
   "metadata": {},
   "outputs": [
    {
     "name": "stdout",
     "output_type": "stream",
     "text": [
      "2024-09-25 19:10:22        540 iris/data/iris_test.csv\r\n",
      "2024-09-25 19:10:21       2160 iris/data/iris_train.csv\r\n"
     ]
    }
   ],
   "source": [
    "!aws s3 ls {bucket}/{prefix}/data/ --recursive"
   ]
  },
  {
   "cell_type": "code",
   "execution_count": 116,
   "id": "4ab9aa16",
   "metadata": {},
   "outputs": [
    {
     "name": "stdout",
     "output_type": "stream",
     "text": [
      "s3://sagemakerlearningwithiris/iris/data/iris_train.csv\n",
      "s3://sagemakerlearningwithiris/iris/data/iris_test.csv\n"
     ]
    }
   ],
   "source": [
    "train_file = 'data/iris_train.csv'\n",
    "validation_file = 'data/iris_test.csv'\n",
    "\n",
    "train_file_uri = 's3://{}/{}/{}'.format(bucket, prefix, train_file)\n",
    "test_file_uri = 's3://{}/{}/{}'.format(bucket, prefix, validation_file)\n",
    "print(train_file_uri)\n",
    "print(test_file_uri)"
   ]
  },
  {
   "cell_type": "code",
   "execution_count": 117,
   "id": "a0bb35de",
   "metadata": {},
   "outputs": [
    {
     "name": "stdout",
     "output_type": "stream",
     "text": [
      "<sagemaker.inputs.TrainingInput object at 0x7fa28e904670>\n",
      "<sagemaker.inputs.TrainingInput object at 0x7fa28e904580>\n"
     ]
    }
   ],
   "source": [
    "train_ip = TrainingInput(train_file_uri, content_type='csv')\n",
    "test_ip = TrainingInput(test_file_uri, content_type='csv')\n",
    "print(train_ip)\n",
    "print(test_ip)"
   ]
  },
  {
   "cell_type": "code",
   "execution_count": 118,
   "id": "2e889097",
   "metadata": {},
   "outputs": [
    {
     "name": "stdout",
     "output_type": "stream",
     "text": [
      "s3://sagemakerlearningwithiris/iris/model\n"
     ]
    }
   ],
   "source": [
    "model_op = 's3://{}/{}/{}'.format(bucket, prefix, 'model')\n",
    "print(model_op)"
   ]
  },
  {
   "cell_type": "code",
   "execution_count": 97,
   "id": "dde91fbb",
   "metadata": {},
   "outputs": [
    {
     "name": "stderr",
     "output_type": "stream",
     "text": [
      "INFO:sagemaker.image_uris:Ignoring unnecessary instance type: None.\n"
     ]
    },
    {
     "name": "stdout",
     "output_type": "stream",
     "text": [
      "811284229777.dkr.ecr.us-east-1.amazonaws.com/xgboost:latest\n"
     ]
    }
   ],
   "source": [
    "model_img = sagemaker.image_uris.retrieve('xgboost', region, 'latest')\n",
    "print(model_img)"
   ]
  },
  {
   "cell_type": "code",
   "execution_count": 119,
   "id": "714ab0d8",
   "metadata": {},
   "outputs": [],
   "source": [
    "job_name = 'iris-xgboost'\n",
    "xgb_model = sagemaker.estimator.Estimator(\n",
    "    image_uri=model_img,\n",
    "    role = role_arn,\n",
    "    base_job_name=job_name,\n",
    "    instance_count=1,\n",
    "    instance_type='ml.m5.4xlarge',\n",
    "    output_path=model_op,\n",
    "    sagemaker_session=sagemaker.Session(),\n",
    "    volume_size=5\n",
    ")"
   ]
  },
  {
   "cell_type": "code",
   "execution_count": 121,
   "id": "62083725",
   "metadata": {},
   "outputs": [],
   "source": [
    "# xgb_model.set_hyperparameters(num_class=3, max_depth=5, num_round=10, objective='multi:softmax')\n",
    "# xgb_model.set_hyperparameters(num_class=3, max_depth=5, num_round=10, objective='multi:softmax')\n",
    "xgb_model.set_hyperparameters(num_class=3, max_depth=5, num_round=10, objective='multi:softmax')\n"
   ]
  },
  {
   "cell_type": "code",
   "execution_count": 122,
   "id": "c499e6d1",
   "metadata": {},
   "outputs": [
    {
     "name": "stdout",
     "output_type": "stream",
     "text": [
      "iris-xgboost2024-09-25-19-15-18\n"
     ]
    }
   ],
   "source": [
    "from datetime import datetime\n",
    "name_job = job_name + datetime.today().strftime(\"%Y-%m-%d-%H-%M-%S\")\n",
    "print(name_job)"
   ]
  },
  {
   "cell_type": "code",
   "execution_count": 123,
   "id": "395b7c8c",
   "metadata": {},
   "outputs": [
    {
     "name": "stderr",
     "output_type": "stream",
     "text": [
      "INFO:sagemaker:Creating training-job with name: iris-xgboost2024-09-25-19-15-18\n"
     ]
    },
    {
     "name": "stdout",
     "output_type": "stream",
     "text": [
      "2024-09-25 19:15:25 Starting - Starting the training job...\n",
      "2024-09-25 19:15:39 Starting - Preparing the instances for training...\n",
      "2024-09-25 19:16:17 Downloading - Downloading input data...\n",
      "2024-09-25 19:16:37 Downloading - Downloading the training image...\n",
      "2024-09-25 19:17:07 Training - Training image download completed. Training in progress..\u001b[34mArguments: train\u001b[0m\n",
      "\u001b[34m[2024-09-25:19:17:26:INFO] Running standalone xgboost training.\u001b[0m\n",
      "\u001b[34m[2024-09-25:19:17:26:INFO] File size need to be processed in the node: 0.0mb. Available memory size in the node: 55450.48mb\u001b[0m\n",
      "\u001b[34m[2024-09-25:19:17:26:INFO] Determined delimiter of CSV input is ','\u001b[0m\n",
      "\u001b[34m[19:17:26] S3DistributionType set as FullyReplicated\u001b[0m\n",
      "\u001b[34m[19:17:26] 120x4 matrix with 480 entries loaded from /opt/ml/input/data/train?format=csv&label_column=0&delimiter=,\u001b[0m\n",
      "\u001b[34m[2024-09-25:19:17:26:INFO] Determined delimiter of CSV input is ','\u001b[0m\n",
      "\u001b[34m[19:17:26] S3DistributionType set as FullyReplicated\u001b[0m\n",
      "\u001b[34m[19:17:26] 30x4 matrix with 120 entries loaded from /opt/ml/input/data/validation?format=csv&label_column=0&delimiter=,\u001b[0m\n",
      "\u001b[34m[19:17:26] src/tree/updater_prune.cc:74: tree pruning end, 1 roots, 2 extra nodes, 0 pruned nodes, max_depth=1\u001b[0m\n",
      "\u001b[34m[19:17:26] src/tree/updater_prune.cc:74: tree pruning end, 1 roots, 10 extra nodes, 0 pruned nodes, max_depth=4\u001b[0m\n",
      "\u001b[34m[19:17:26] src/tree/updater_prune.cc:74: tree pruning end, 1 roots, 8 extra nodes, 0 pruned nodes, max_depth=3\u001b[0m\n",
      "\u001b[34m[0]#011train-merror:0.033333#011validation-merror:0.066667\u001b[0m\n",
      "\u001b[34m[19:17:26] src/tree/updater_prune.cc:74: tree pruning end, 1 roots, 2 extra nodes, 0 pruned nodes, max_depth=1\u001b[0m\n",
      "\u001b[34m[19:17:26] src/tree/updater_prune.cc:74: tree pruning end, 1 roots, 10 extra nodes, 0 pruned nodes, max_depth=4\u001b[0m\n",
      "\u001b[34m[19:17:26] src/tree/updater_prune.cc:74: tree pruning end, 1 roots, 6 extra nodes, 0 pruned nodes, max_depth=2\u001b[0m\n",
      "\u001b[34m[1]#011train-merror:0.025#011validation-merror:0.033333\u001b[0m\n",
      "\u001b[34m[19:17:26] src/tree/updater_prune.cc:74: tree pruning end, 1 roots, 2 extra nodes, 0 pruned nodes, max_depth=1\u001b[0m\n",
      "\u001b[34m[19:17:26] src/tree/updater_prune.cc:74: tree pruning end, 1 roots, 10 extra nodes, 0 pruned nodes, max_depth=4\u001b[0m\n",
      "\u001b[34m[19:17:26] src/tree/updater_prune.cc:74: tree pruning end, 1 roots, 8 extra nodes, 0 pruned nodes, max_depth=3\u001b[0m\n",
      "\u001b[34m[2]#011train-merror:0.016667#011validation-merror:0.033333\u001b[0m\n",
      "\u001b[34m[19:17:26] src/tree/updater_prune.cc:74: tree pruning end, 1 roots, 2 extra nodes, 0 pruned nodes, max_depth=1\u001b[0m\n",
      "\u001b[34m[19:17:26] src/tree/updater_prune.cc:74: tree pruning end, 1 roots, 10 extra nodes, 0 pruned nodes, max_depth=4\u001b[0m\n",
      "\u001b[34m[19:17:26] src/tree/updater_prune.cc:74: tree pruning end, 1 roots, 8 extra nodes, 0 pruned nodes, max_depth=3\u001b[0m\n",
      "\u001b[34m[3]#011train-merror:0.016667#011validation-merror:0.033333\u001b[0m\n",
      "\u001b[34m[19:17:26] src/tree/updater_prune.cc:74: tree pruning end, 1 roots, 2 extra nodes, 0 pruned nodes, max_depth=1\u001b[0m\n",
      "\u001b[34m[19:17:26] src/tree/updater_prune.cc:74: tree pruning end, 1 roots, 10 extra nodes, 0 pruned nodes, max_depth=4\u001b[0m\n",
      "\u001b[34m[19:17:26] src/tree/updater_prune.cc:74: tree pruning end, 1 roots, 10 extra nodes, 0 pruned nodes, max_depth=4\u001b[0m\n",
      "\u001b[34m[4]#011train-merror:0.016667#011validation-merror:0.033333\u001b[0m\n",
      "\u001b[34m[19:17:26] src/tree/updater_prune.cc:74: tree pruning end, 1 roots, 2 extra nodes, 0 pruned nodes, max_depth=1\u001b[0m\n",
      "\u001b[34m[19:17:26] src/tree/updater_prune.cc:74: tree pruning end, 1 roots, 10 extra nodes, 0 pruned nodes, max_depth=4\u001b[0m\n",
      "\u001b[34m[19:17:26] src/tree/updater_prune.cc:74: tree pruning end, 1 roots, 8 extra nodes, 0 pruned nodes, max_depth=3\u001b[0m\n",
      "\u001b[34m[5]#011train-merror:0.016667#011validation-merror:0.033333\u001b[0m\n",
      "\u001b[34m[19:17:26] src/tree/updater_prune.cc:74: tree pruning end, 1 roots, 2 extra nodes, 0 pruned nodes, max_depth=1\u001b[0m\n",
      "\u001b[34m[19:17:26] src/tree/updater_prune.cc:74: tree pruning end, 1 roots, 10 extra nodes, 0 pruned nodes, max_depth=4\u001b[0m\n",
      "\u001b[34m[19:17:26] src/tree/updater_prune.cc:74: tree pruning end, 1 roots, 8 extra nodes, 0 pruned nodes, max_depth=3\u001b[0m\n",
      "\u001b[34m[6]#011train-merror:0.016667#011validation-merror:0.033333\u001b[0m\n",
      "\u001b[34m[19:17:26] src/tree/updater_prune.cc:74: tree pruning end, 1 roots, 2 extra nodes, 0 pruned nodes, max_depth=1\u001b[0m\n",
      "\u001b[34m[19:17:26] src/tree/updater_prune.cc:74: tree pruning end, 1 roots, 10 extra nodes, 0 pruned nodes, max_depth=4\u001b[0m\n",
      "\u001b[34m[19:17:26] src/tree/updater_prune.cc:74: tree pruning end, 1 roots, 8 extra nodes, 0 pruned nodes, max_depth=3\u001b[0m\n",
      "\u001b[34m[7]#011train-merror:0.016667#011validation-merror:0.033333\u001b[0m\n",
      "\u001b[34m[19:17:26] src/tree/updater_prune.cc:74: tree pruning end, 1 roots, 2 extra nodes, 0 pruned nodes, max_depth=1\u001b[0m\n",
      "\u001b[34m[19:17:26] src/tree/updater_prune.cc:74: tree pruning end, 1 roots, 12 extra nodes, 0 pruned nodes, max_depth=4\u001b[0m\n",
      "\u001b[34m[19:17:26] src/tree/updater_prune.cc:74: tree pruning end, 1 roots, 8 extra nodes, 0 pruned nodes, max_depth=3\u001b[0m\n",
      "\u001b[34m[8]#011train-merror:0.016667#011validation-merror:0.066667\u001b[0m\n",
      "\u001b[34m[19:17:26] src/tree/updater_prune.cc:74: tree pruning end, 1 roots, 2 extra nodes, 0 pruned nodes, max_depth=1\u001b[0m\n",
      "\u001b[34m[19:17:26] src/tree/updater_prune.cc:74: tree pruning end, 1 roots, 10 extra nodes, 0 pruned nodes, max_depth=4\u001b[0m\n",
      "\u001b[34m[19:17:26] src/tree/updater_prune.cc:74: tree pruning end, 1 roots, 8 extra nodes, 0 pruned nodes, max_depth=3\u001b[0m\n",
      "\u001b[34m[9]#011train-merror:0.016667#011validation-merror:0.033333\u001b[0m\n",
      "\n",
      "2024-09-25 19:17:46 Uploading - Uploading generated training model\n",
      "2024-09-25 19:17:46 Completed - Training job completed\n",
      "Training seconds: 90\n",
      "Billable seconds: 90\n"
     ]
    }
   ],
   "source": [
    "xgb_model.fit({\"train\":train_ip, \"validation\":test_ip}, wait=True, job_name=name_job)"
   ]
  },
  {
   "cell_type": "code",
   "execution_count": 124,
   "id": "163ef4e7",
   "metadata": {},
   "outputs": [
    {
     "name": "stdout",
     "output_type": "stream",
     "text": [
      "                           PRE iris-xgboost2024-09-25-19-02-02/\r\n",
      "                           PRE iris-xgboost2024-09-25-19-15-18/\r\n"
     ]
    }
   ],
   "source": [
    "!aws s3 ls s3://{bucket}/{prefix}/model/"
   ]
  },
  {
   "cell_type": "code",
   "execution_count": 127,
   "id": "d25366b9",
   "metadata": {},
   "outputs": [
    {
     "name": "stdout",
     "output_type": "stream",
     "text": [
      "                           PRE debug-output/\r\n",
      "                           PRE output/\r\n",
      "                           PRE profiler-output/\r\n"
     ]
    }
   ],
   "source": [
    "!aws s3 ls s3://{bucket}/{prefix}/model/{name_job}/"
   ]
  },
  {
   "cell_type": "code",
   "execution_count": null,
   "id": "9174ac56",
   "metadata": {},
   "outputs": [],
   "source": []
  }
 ],
 "metadata": {
  "kernelspec": {
   "display_name": "conda_python3",
   "language": "python",
   "name": "conda_python3"
  },
  "language_info": {
   "codemirror_mode": {
    "name": "ipython",
    "version": 3
   },
   "file_extension": ".py",
   "mimetype": "text/x-python",
   "name": "python",
   "nbconvert_exporter": "python",
   "pygments_lexer": "ipython3",
   "version": "3.10.14"
  }
 },
 "nbformat": 4,
 "nbformat_minor": 5
}
