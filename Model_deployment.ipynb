{
 "cells": [
  {
   "cell_type": "code",
   "execution_count": 2,
   "id": "499fe436",
   "metadata": {},
   "outputs": [
    {
     "name": "stderr",
     "output_type": "stream",
     "text": [
      "/home/ec2-user/anaconda3/envs/python3/lib/python3.10/site-packages/sagemaker/base_serializers.py:28: UserWarning: A NumPy version >=1.23.5 and <2.3.0 is required for this version of SciPy (detected version 1.22.4)\n",
      "  import scipy.sparse\n"
     ]
    },
    {
     "name": "stdout",
     "output_type": "stream",
     "text": [
      "sagemaker.config INFO - Not applying SDK defaults from location: /etc/xdg/sagemaker/config.yaml\n",
      "sagemaker.config INFO - Not applying SDK defaults from location: /home/ec2-user/.config/sagemaker/config.yaml\n"
     ]
    }
   ],
   "source": [
    "import boto3\n",
    "import sagemaker"
   ]
  },
  {
   "cell_type": "code",
   "execution_count": 3,
   "id": "3c983098",
   "metadata": {},
   "outputs": [],
   "source": [
    "from sagemaker.session import TrainingInput\n",
    "from sagemaker import image_uris\n",
    "from sagemaker import hyperparameters"
   ]
  },
  {
   "cell_type": "code",
   "execution_count": 4,
   "id": "19819ebd",
   "metadata": {},
   "outputs": [],
   "source": [
    "import logging"
   ]
  },
  {
   "cell_type": "code",
   "execution_count": 5,
   "id": "f0049a78",
   "metadata": {},
   "outputs": [],
   "source": [
    "boto3.set_stream_logger(name='botocore.credentials', level=logging.WARNING)"
   ]
  },
  {
   "cell_type": "code",
   "execution_count": 6,
   "id": "d8517292",
   "metadata": {},
   "outputs": [
    {
     "name": "stdout",
     "output_type": "stream",
     "text": [
      "us-east-1\n"
     ]
    }
   ],
   "source": [
    "region = sagemaker.Session().boto_region_name\n",
    "print(region)"
   ]
  },
  {
   "cell_type": "code",
   "execution_count": 7,
   "id": "f550e803",
   "metadata": {},
   "outputs": [],
   "source": [
    "import os"
   ]
  },
  {
   "cell_type": "code",
   "execution_count": 8,
   "id": "76074af8",
   "metadata": {},
   "outputs": [],
   "source": [
    "# role_arn = os.getenv('SGMKR_ROLE_ARN')\n",
    "role_arn = sagemaker.get_execution_role()"
   ]
  },
  {
   "cell_type": "code",
   "execution_count": 9,
   "id": "7e944f37",
   "metadata": {},
   "outputs": [
    {
     "name": "stdout",
     "output_type": "stream",
     "text": [
      "arn:aws:iam::216393269487:role/service-role/AmazonSageMaker-ExecutionRole-20240925T153897\n"
     ]
    }
   ],
   "source": [
    "print(role_arn)"
   ]
  },
  {
   "cell_type": "code",
   "execution_count": 10,
   "id": "8c70f17a",
   "metadata": {},
   "outputs": [],
   "source": [
    "bucket = 'sagemakerlearningwithiris'\n",
    "prefix = 'iris'"
   ]
  },
  {
   "cell_type": "code",
   "execution_count": 11,
   "id": "16a3c956",
   "metadata": {},
   "outputs": [
    {
     "name": "stdout",
     "output_type": "stream",
     "text": [
      "                           PRE batch_transform/\r\n",
      "                           PRE data/\r\n",
      "                           PRE model/\r\n"
     ]
    }
   ],
   "source": [
    "#Get the ls of objects in the Bucket with name bucket and prefix\n",
    "!aws s3 ls {bucket}/{prefix}/"
   ]
  },
  {
   "cell_type": "code",
   "execution_count": 12,
   "id": "ec8586de",
   "metadata": {},
   "outputs": [
    {
     "name": "stdout",
     "output_type": "stream",
     "text": [
      "2024-09-25 19:10:22        540 iris/data/iris_test.csv\r\n",
      "2024-09-25 19:10:21       2160 iris/data/iris_train.csv\r\n"
     ]
    }
   ],
   "source": [
    "!aws s3 ls {bucket}/{prefix}/data/ --recursive"
   ]
  },
  {
   "cell_type": "code",
   "execution_count": 13,
   "id": "4ab9aa16",
   "metadata": {},
   "outputs": [
    {
     "name": "stdout",
     "output_type": "stream",
     "text": [
      "s3://sagemakerlearningwithiris/iris/data/iris_train.csv\n",
      "s3://sagemakerlearningwithiris/iris/data/iris_test.csv\n"
     ]
    }
   ],
   "source": [
    "train_file = 'data/iris_train.csv'\n",
    "validation_file = 'data/iris_test.csv'\n",
    "\n",
    "train_file_uri = 's3://{}/{}/{}'.format(bucket, prefix, train_file)\n",
    "test_file_uri = 's3://{}/{}/{}'.format(bucket, prefix, validation_file)\n",
    "print(train_file_uri)\n",
    "print(test_file_uri)"
   ]
  },
  {
   "cell_type": "code",
   "execution_count": 14,
   "id": "a0bb35de",
   "metadata": {},
   "outputs": [
    {
     "name": "stdout",
     "output_type": "stream",
     "text": [
      "<sagemaker.inputs.TrainingInput object at 0x7f6dd405cdf0>\n",
      "<sagemaker.inputs.TrainingInput object at 0x7f6dd405c6a0>\n"
     ]
    }
   ],
   "source": [
    "train_ip = TrainingInput(train_file_uri, content_type='csv')\n",
    "test_ip = TrainingInput(test_file_uri, content_type='csv')\n",
    "print(train_ip)\n",
    "print(test_ip)"
   ]
  },
  {
   "cell_type": "code",
   "execution_count": 15,
   "id": "2e889097",
   "metadata": {},
   "outputs": [
    {
     "name": "stdout",
     "output_type": "stream",
     "text": [
      "s3://sagemakerlearningwithiris/iris/model\n"
     ]
    }
   ],
   "source": [
    "model_op = 's3://{}/{}/{}'.format(bucket, prefix, 'model')\n",
    "print(model_op)"
   ]
  },
  {
   "cell_type": "code",
   "execution_count": 16,
   "id": "dde91fbb",
   "metadata": {},
   "outputs": [
    {
     "name": "stdout",
     "output_type": "stream",
     "text": [
      "811284229777.dkr.ecr.us-east-1.amazonaws.com/xgboost:latest\n"
     ]
    }
   ],
   "source": [
    "model_img = sagemaker.image_uris.retrieve('xgboost', region, 'latest')\n",
    "print(model_img)"
   ]
  },
  {
   "cell_type": "code",
   "execution_count": 17,
   "id": "714ab0d8",
   "metadata": {},
   "outputs": [],
   "source": [
    "job_name = 'iris-xgboost'\n",
    "xgb_model = sagemaker.estimator.Estimator(\n",
    "    image_uri=model_img,\n",
    "    role = role_arn,\n",
    "    base_job_name=job_name,\n",
    "    instance_count=1,\n",
    "    instance_type='ml.m5.4xlarge',\n",
    "    output_path=model_op,\n",
    "    sagemaker_session=sagemaker.Session(),\n",
    "    volume_size=5\n",
    ")"
   ]
  },
  {
   "cell_type": "code",
   "execution_count": 18,
   "id": "62083725",
   "metadata": {},
   "outputs": [],
   "source": [
    "# xgb_model.set_hyperparameters(num_class=3, max_depth=5, num_round=10, objective='multi:softmax')\n",
    "# xgb_model.set_hyperparameters(num_class=3, max_depth=5, num_round=10, objective='multi:softmax')\n",
    "xgb_model.set_hyperparameters(num_class=3, max_depth=5, num_round=10, objective='multi:softmax')\n"
   ]
  },
  {
   "cell_type": "code",
   "execution_count": 19,
   "id": "c499e6d1",
   "metadata": {},
   "outputs": [
    {
     "name": "stdout",
     "output_type": "stream",
     "text": [
      "iris-xgboost2024-09-26-04-41-31\n"
     ]
    }
   ],
   "source": [
    "from datetime import datetime\n",
    "name_job = job_name + datetime.today().strftime(\"%Y-%m-%d-%H-%M-%S\")\n",
    "print(name_job)"
   ]
  },
  {
   "cell_type": "code",
   "execution_count": 20,
   "id": "395b7c8c",
   "metadata": {},
   "outputs": [
    {
     "name": "stderr",
     "output_type": "stream",
     "text": [
      "INFO:sagemaker:Creating training-job with name: iris-xgboost2024-09-26-04-41-31\n"
     ]
    },
    {
     "name": "stdout",
     "output_type": "stream",
     "text": [
      "2024-09-26 04:41:31 Starting - Starting the training job...\n",
      "2024-09-26 04:41:52 Starting - Preparing the instances for training...\n",
      "2024-09-26 04:42:31 Downloading - Downloading input data...\n",
      "2024-09-26 04:42:51 Downloading - Downloading the training image...\n",
      "2024-09-26 04:43:22 Training - Training image download completed. Training in progress..\u001b[34mArguments: train\u001b[0m\n",
      "\u001b[34m[2024-09-26:04:43:40:INFO] Running standalone xgboost training.\u001b[0m\n",
      "\u001b[34m[2024-09-26:04:43:40:INFO] File size need to be processed in the node: 0.0mb. Available memory size in the node: 55446.71mb\u001b[0m\n",
      "\u001b[34m[2024-09-26:04:43:40:INFO] Determined delimiter of CSV input is ','\u001b[0m\n",
      "\u001b[34m[04:43:40] S3DistributionType set as FullyReplicated\u001b[0m\n",
      "\u001b[34m[04:43:40] 120x4 matrix with 480 entries loaded from /opt/ml/input/data/train?format=csv&label_column=0&delimiter=,\u001b[0m\n",
      "\u001b[34m[2024-09-26:04:43:40:INFO] Determined delimiter of CSV input is ','\u001b[0m\n",
      "\u001b[34m[04:43:40] S3DistributionType set as FullyReplicated\u001b[0m\n",
      "\u001b[34m[04:43:40] 30x4 matrix with 120 entries loaded from /opt/ml/input/data/validation?format=csv&label_column=0&delimiter=,\u001b[0m\n",
      "\u001b[34m[04:43:40] src/tree/updater_prune.cc:74: tree pruning end, 1 roots, 2 extra nodes, 0 pruned nodes, max_depth=1\u001b[0m\n",
      "\u001b[34m[04:43:40] src/tree/updater_prune.cc:74: tree pruning end, 1 roots, 10 extra nodes, 0 pruned nodes, max_depth=4\u001b[0m\n",
      "\u001b[34m[04:43:40] src/tree/updater_prune.cc:74: tree pruning end, 1 roots, 8 extra nodes, 0 pruned nodes, max_depth=3\u001b[0m\n",
      "\u001b[34m[0]#011train-merror:0.033333#011validation-merror:0.066667\u001b[0m\n",
      "\u001b[34m[04:43:40] src/tree/updater_prune.cc:74: tree pruning end, 1 roots, 2 extra nodes, 0 pruned nodes, max_depth=1\u001b[0m\n",
      "\u001b[34m[04:43:40] src/tree/updater_prune.cc:74: tree pruning end, 1 roots, 10 extra nodes, 0 pruned nodes, max_depth=4\u001b[0m\n",
      "\u001b[34m[04:43:40] src/tree/updater_prune.cc:74: tree pruning end, 1 roots, 6 extra nodes, 0 pruned nodes, max_depth=2\u001b[0m\n",
      "\u001b[34m[1]#011train-merror:0.025#011validation-merror:0.033333\u001b[0m\n",
      "\u001b[34m[04:43:40] src/tree/updater_prune.cc:74: tree pruning end, 1 roots, 2 extra nodes, 0 pruned nodes, max_depth=1\u001b[0m\n",
      "\u001b[34m[04:43:40] src/tree/updater_prune.cc:74: tree pruning end, 1 roots, 10 extra nodes, 0 pruned nodes, max_depth=4\u001b[0m\n",
      "\u001b[34m[04:43:40] src/tree/updater_prune.cc:74: tree pruning end, 1 roots, 8 extra nodes, 0 pruned nodes, max_depth=3\u001b[0m\n",
      "\u001b[34m[2]#011train-merror:0.016667#011validation-merror:0.033333\u001b[0m\n",
      "\u001b[34m[04:43:40] src/tree/updater_prune.cc:74: tree pruning end, 1 roots, 2 extra nodes, 0 pruned nodes, max_depth=1\u001b[0m\n",
      "\u001b[34m[04:43:40] src/tree/updater_prune.cc:74: tree pruning end, 1 roots, 10 extra nodes, 0 pruned nodes, max_depth=4\u001b[0m\n",
      "\u001b[34m[04:43:40] src/tree/updater_prune.cc:74: tree pruning end, 1 roots, 8 extra nodes, 0 pruned nodes, max_depth=3\u001b[0m\n",
      "\u001b[34m[3]#011train-merror:0.016667#011validation-merror:0.033333\u001b[0m\n",
      "\u001b[34m[04:43:40] src/tree/updater_prune.cc:74: tree pruning end, 1 roots, 2 extra nodes, 0 pruned nodes, max_depth=1\u001b[0m\n",
      "\u001b[34m[04:43:40] src/tree/updater_prune.cc:74: tree pruning end, 1 roots, 10 extra nodes, 0 pruned nodes, max_depth=4\u001b[0m\n",
      "\u001b[34m[04:43:40] src/tree/updater_prune.cc:74: tree pruning end, 1 roots, 10 extra nodes, 0 pruned nodes, max_depth=4\u001b[0m\n",
      "\u001b[34m[4]#011train-merror:0.016667#011validation-merror:0.033333\u001b[0m\n",
      "\u001b[34m[04:43:40] src/tree/updater_prune.cc:74: tree pruning end, 1 roots, 2 extra nodes, 0 pruned nodes, max_depth=1\u001b[0m\n",
      "\u001b[34m[04:43:40] src/tree/updater_prune.cc:74: tree pruning end, 1 roots, 10 extra nodes, 0 pruned nodes, max_depth=4\u001b[0m\n",
      "\u001b[34m[04:43:40] src/tree/updater_prune.cc:74: tree pruning end, 1 roots, 8 extra nodes, 0 pruned nodes, max_depth=3\u001b[0m\n",
      "\u001b[34m[5]#011train-merror:0.016667#011validation-merror:0.033333\u001b[0m\n",
      "\u001b[34m[04:43:40] src/tree/updater_prune.cc:74: tree pruning end, 1 roots, 2 extra nodes, 0 pruned nodes, max_depth=1\u001b[0m\n",
      "\u001b[34m[04:43:40] src/tree/updater_prune.cc:74: tree pruning end, 1 roots, 10 extra nodes, 0 pruned nodes, max_depth=4\u001b[0m\n",
      "\u001b[34m[04:43:40] src/tree/updater_prune.cc:74: tree pruning end, 1 roots, 8 extra nodes, 0 pruned nodes, max_depth=3\u001b[0m\n",
      "\u001b[34m[6]#011train-merror:0.016667#011validation-merror:0.033333\u001b[0m\n",
      "\u001b[34m[04:43:40] src/tree/updater_prune.cc:74: tree pruning end, 1 roots, 2 extra nodes, 0 pruned nodes, max_depth=1\u001b[0m\n",
      "\u001b[34m[04:43:40] src/tree/updater_prune.cc:74: tree pruning end, 1 roots, 10 extra nodes, 0 pruned nodes, max_depth=4\u001b[0m\n",
      "\u001b[34m[04:43:40] src/tree/updater_prune.cc:74: tree pruning end, 1 roots, 8 extra nodes, 0 pruned nodes, max_depth=3\u001b[0m\n",
      "\u001b[34m[7]#011train-merror:0.016667#011validation-merror:0.033333\u001b[0m\n",
      "\u001b[34m[04:43:40] src/tree/updater_prune.cc:74: tree pruning end, 1 roots, 2 extra nodes, 0 pruned nodes, max_depth=1\u001b[0m\n",
      "\u001b[34m[04:43:40] src/tree/updater_prune.cc:74: tree pruning end, 1 roots, 12 extra nodes, 0 pruned nodes, max_depth=4\u001b[0m\n",
      "\u001b[34m[04:43:40] src/tree/updater_prune.cc:74: tree pruning end, 1 roots, 8 extra nodes, 0 pruned nodes, max_depth=3\u001b[0m\n",
      "\u001b[34m[8]#011train-merror:0.016667#011validation-merror:0.066667\u001b[0m\n",
      "\u001b[34m[04:43:40] src/tree/updater_prune.cc:74: tree pruning end, 1 roots, 2 extra nodes, 0 pruned nodes, max_depth=1\u001b[0m\n",
      "\u001b[34m[04:43:40] src/tree/updater_prune.cc:74: tree pruning end, 1 roots, 10 extra nodes, 0 pruned nodes, max_depth=4\u001b[0m\n",
      "\u001b[34m[04:43:40] src/tree/updater_prune.cc:74: tree pruning end, 1 roots, 8 extra nodes, 0 pruned nodes, max_depth=3\u001b[0m\n",
      "\u001b[34m[9]#011train-merror:0.016667#011validation-merror:0.033333\u001b[0m\n",
      "\n",
      "2024-09-26 04:44:00 Uploading - Uploading generated training model\n",
      "2024-09-26 04:44:00 Completed - Training job completed\n",
      "Training seconds: 89\n",
      "Billable seconds: 89\n"
     ]
    }
   ],
   "source": [
    "xgb_model.fit({\"train\":train_ip, \"validation\":test_ip}, wait=True, job_name=name_job)"
   ]
  },
  {
   "cell_type": "code",
   "execution_count": 21,
   "id": "22f64896",
   "metadata": {},
   "outputs": [
    {
     "name": "stdout",
     "output_type": "stream",
     "text": [
      "                           PRE iris-xgboost2024-09-25-19-02-02/\r\n",
      "                           PRE iris-xgboost2024-09-25-19-15-18/\r\n",
      "                           PRE iris-xgboost2024-09-26-04-41-31/\r\n"
     ]
    }
   ],
   "source": [
    "!aws s3 ls s3://{bucket}/{prefix}/model/"
   ]
  },
  {
   "cell_type": "code",
   "execution_count": 22,
   "id": "cfea9483",
   "metadata": {},
   "outputs": [
    {
     "name": "stdout",
     "output_type": "stream",
     "text": [
      "                           PRE debug-output/\r\n",
      "                           PRE output/\r\n",
      "                           PRE profiler-output/\r\n"
     ]
    }
   ],
   "source": [
    "!aws s3 ls s3://{bucket}/{prefix}/model/{name_job}/"
   ]
  },
  {
   "cell_type": "markdown",
   "id": "257ae5b7",
   "metadata": {},
   "source": [
    "## Model Deployment and Making Inference"
   ]
  },
  {
   "cell_type": "markdown",
   "id": "9d85b2c5",
   "metadata": {},
   "source": [
    "#### -  CSVserializer from sagemaker is used to serialize the inference data into a formart(CSV) in which the model training data is "
   ]
  },
  {
   "cell_type": "code",
   "execution_count": 23,
   "id": "086a08b3",
   "metadata": {},
   "outputs": [],
   "source": [
    "from sagemaker.serializers import CSVSerializer\n",
    "serializer = CSVSerializer()"
   ]
  },
  {
   "cell_type": "code",
   "execution_count": 24,
   "id": "af179a1d",
   "metadata": {},
   "outputs": [
    {
     "data": {
      "text/plain": [
       "sagemaker.estimator.Estimator"
      ]
     },
     "execution_count": 24,
     "metadata": {},
     "output_type": "execute_result"
    }
   ],
   "source": [
    "type(xgb_model)"
   ]
  },
  {
   "cell_type": "markdown",
   "id": "45388ee4",
   "metadata": {},
   "source": [
    "#### The Below function is used ti deploy the XGBoost model to an endpoint\n",
    "- Initial_instance_count is the number of instance (Virtual Machines) to host the endpoint and serve the request\n",
    "- CSVserializer = is used to convert the data that is needed to make inference in formart that model expects\n",
    "- instance_type = Type of instance that will be used to host the model"
   ]
  },
  {
   "cell_type": "code",
   "execution_count": 26,
   "id": "7fd86b29",
   "metadata": {
    "scrolled": true
   },
   "outputs": [
    {
     "name": "stderr",
     "output_type": "stream",
     "text": [
      "INFO:sagemaker:Creating model with name: iris-xgboost-2024-09-26-04-46-15-694\n",
      "INFO:sagemaker:Creating endpoint-config with name iris-xgboost-2024-09-26-04-46-15-694\n",
      "INFO:sagemaker:Creating endpoint with name iris-xgboost-2024-09-26-04-46-15-694\n"
     ]
    },
    {
     "name": "stdout",
     "output_type": "stream",
     "text": [
      "------!"
     ]
    }
   ],
   "source": [
    "xgb_predictor = xgb_model.deploy(\n",
    "    initial_instance_count=1, instance_type='ml.t2.medium', serializer=CSVSerializer()\n",
    ")"
   ]
  },
  {
   "cell_type": "code",
   "execution_count": 27,
   "id": "8a5c476c",
   "metadata": {},
   "outputs": [
    {
     "data": {
      "text/plain": [
       "b'2.0'"
      ]
     },
     "execution_count": 27,
     "metadata": {},
     "output_type": "execute_result"
    }
   ],
   "source": [
    "xgb_predictor.predict('7.7, 3.0, 6.1, 2.3')"
   ]
  },
  {
   "cell_type": "code",
   "execution_count": 29,
   "id": "85ff12c2",
   "metadata": {},
   "outputs": [
    {
     "name": "stdout",
     "output_type": "stream",
     "text": [
      "iris-xgboost-2024-09-26-04-46-15-694\n"
     ]
    }
   ],
   "source": [
    "endpoint_name = xgb_predictor.endpoint_name\n",
    "print(endpoint_name)"
   ]
  },
  {
   "cell_type": "code",
   "execution_count": 32,
   "id": "153d42f7",
   "metadata": {},
   "outputs": [],
   "source": [
    "payload_csv_text =\" 7.7, 3.0, 6.1, 2.3\"\n",
    "sgmaker_runtime = boto3.client(\"runtime.sagemaker\") #Creates sagemaker runtime client that is used to invoke deployed sagemaker endpoints to get inference\n",
    "response = sgmaker_runtime.invoke_endpoint(\n",
    "    EndpointName = endpoint_name, ContentType='text/csv', Body=payload_csv_text\n",
    ")"
   ]
  },
  {
   "cell_type": "code",
   "execution_count": 33,
   "id": "1b373798",
   "metadata": {},
   "outputs": [
    {
     "name": "stdout",
     "output_type": "stream",
     "text": [
      "{'ResponseMetadata': {'RequestId': '787755d5-ca45-4a04-86aa-f6a0bbc08e08', 'HTTPStatusCode': 200, 'HTTPHeaders': {'x-amzn-requestid': '787755d5-ca45-4a04-86aa-f6a0bbc08e08', 'x-amzn-invoked-production-variant': 'AllTraffic', 'date': 'Thu, 26 Sep 2024 05:09:14 GMT', 'content-type': 'text/csv; charset=utf-8', 'content-length': '3', 'connection': 'keep-alive'}, 'RetryAttempts': 0}, 'ContentType': 'text/csv; charset=utf-8', 'InvokedProductionVariant': 'AllTraffic', 'Body': <botocore.response.StreamingBody object at 0x7f6dd0bc4d00>}\n"
     ]
    }
   ],
   "source": [
    "print(response)"
   ]
  },
  {
   "cell_type": "code",
   "execution_count": 34,
   "id": "8d6fde1f",
   "metadata": {},
   "outputs": [
    {
     "name": "stdout",
     "output_type": "stream",
     "text": [
      "2.0\n"
     ]
    }
   ],
   "source": [
    "print(response[\"Body\"].read().decode())"
   ]
  },
  {
   "cell_type": "markdown",
   "id": "2b578460",
   "metadata": {},
   "source": [
    "## Endpoint- Multiple Inference"
   ]
  },
  {
   "cell_type": "code",
   "execution_count": 37,
   "id": "f83ef73d",
   "metadata": {},
   "outputs": [],
   "source": [
    "csv_buffer = open(\"Data/iris_infer.csv\")\n",
    "payload_csv_text = csv_buffer.read()"
   ]
  },
  {
   "cell_type": "code",
   "execution_count": 38,
   "id": "7bf30118",
   "metadata": {},
   "outputs": [
    {
     "name": "stdout",
     "output_type": "stream",
     "text": [
      "1.0,2.0,2.0,2.0,1.0,1.0,2.0,1.0,0.0,2.0,1.0,1.0,0.0,0.0,2.0,1.0,0.0,0.0,1.0,0.0,2.0,1.0,1.0,2.0,0.0,0.0,2.0,0.0,0.0,1.0\n"
     ]
    }
   ],
   "source": [
    "response = sgmaker_runtime.invoke_endpoint(\n",
    "    EndpointName=endpoint_name, ContentType='text/csv', Body=payload_csv_text\n",
    ")\n",
    "print(response[\"Body\"].read().decode())"
   ]
  },
  {
   "cell_type": "code",
   "execution_count": 39,
   "id": "d65b05cd",
   "metadata": {},
   "outputs": [
    {
     "data": {
      "text/plain": [
       "'5.4,3.0,4.5,1.5\\n5.8,2.7,5.1,1.9\\n6.5,3.0,5.5,1.8\\n6.5,3.0,5.8,2.2\\n6.0,2.2,5.0,1.5\\n6.6,3.0,4.4,1.4\\n6.7,3.3,5.7,2.1\\n6.3,3.3,4.7,1.6\\n5.2,3.5,1.5,0.2\\n6.4,3.1,5.5,1.8\\n6.4,2.9,4.3,1.3\\n5.6,2.5,3.9,1.1\\n4.9,3.6,1.4,0.1\\n5.4,3.4,1.5,0.4\\n7.2,3.2,6.0,1.8\\n5.5,2.4,3.7,1.0\\n5.4,3.7,1.5,0.2\\n4.9,3.0,1.4,0.2\\n5.0,2.3,3.3,1.0\\n4.8,3.0,1.4,0.1\\n6.5,3.2,5.1,2.0\\n6.0,3.4,4.5,1.6\\n6.2,2.9,4.3,1.3\\n6.1,2.6,5.6,1.4\\n5.1,3.8,1.5,0.3\\n4.6,3.4,1.4,0.3\\n7.3,2.9,6.3,1.8\\n4.6,3.2,1.4,0.2\\n5.0,3.4,1.5,0.2\\n5.7,2.6,3.5,1.0\\n'"
      ]
     },
     "execution_count": 39,
     "metadata": {},
     "output_type": "execute_result"
    }
   ],
   "source": [
    "payload_csv_text"
   ]
  },
  {
   "cell_type": "markdown",
   "id": "b847f7ad",
   "metadata": {},
   "source": [
    "## Endpoint - Multiple Endpoint from S3 File"
   ]
  },
  {
   "cell_type": "code",
   "execution_count": 40,
   "id": "797d515c",
   "metadata": {},
   "outputs": [
    {
     "name": "stdout",
     "output_type": "stream",
     "text": [
      "sagemakerlearningwithiris\n"
     ]
    }
   ],
   "source": [
    "print(bucket)"
   ]
  },
  {
   "cell_type": "code",
   "execution_count": 41,
   "id": "9d7afa84",
   "metadata": {},
   "outputs": [
    {
     "name": "stdout",
     "output_type": "stream",
     "text": [
      "s3://sagemakerlearningwithiris/iris/batch_transform/iris_infer.csv\n"
     ]
    }
   ],
   "source": [
    "infer_ip_uri = \"s3://{}/{}/{}\".format(bucket, prefix, \"batch_transform/iris_infer.csv\")\n",
    "print(infer_ip_uri)"
   ]
  },
  {
   "cell_type": "code",
   "execution_count": 47,
   "id": "da0840f0",
   "metadata": {},
   "outputs": [],
   "source": [
    "import pandas as pd"
   ]
  },
  {
   "cell_type": "code",
   "execution_count": 50,
   "id": "082b8a9f",
   "metadata": {},
   "outputs": [],
   "source": [
    "s3_clnt = boto3.client(\"s3\")\n",
    "obj = s3_clnt.get_object(Bucket=bucket, Key=\"iris/batch_transform/iris_infer.csv\")\n",
    "payload_df = pd.read_csv(obj[\"Body\"])\n",
    "# print(obj)"
   ]
  },
  {
   "cell_type": "code",
   "execution_count": 51,
   "id": "198ebd6c",
   "metadata": {},
   "outputs": [
    {
     "data": {
      "text/html": [
       "<div>\n",
       "<style scoped>\n",
       "    .dataframe tbody tr th:only-of-type {\n",
       "        vertical-align: middle;\n",
       "    }\n",
       "\n",
       "    .dataframe tbody tr th {\n",
       "        vertical-align: top;\n",
       "    }\n",
       "\n",
       "    .dataframe thead th {\n",
       "        text-align: right;\n",
       "    }\n",
       "</style>\n",
       "<table border=\"1\" class=\"dataframe\">\n",
       "  <thead>\n",
       "    <tr style=\"text-align: right;\">\n",
       "      <th></th>\n",
       "      <th>5.4</th>\n",
       "      <th>3.0</th>\n",
       "      <th>4.5</th>\n",
       "      <th>1.5</th>\n",
       "    </tr>\n",
       "  </thead>\n",
       "  <tbody>\n",
       "    <tr>\n",
       "      <th>0</th>\n",
       "      <td>5.8</td>\n",
       "      <td>2.7</td>\n",
       "      <td>5.1</td>\n",
       "      <td>1.9</td>\n",
       "    </tr>\n",
       "    <tr>\n",
       "      <th>1</th>\n",
       "      <td>6.5</td>\n",
       "      <td>3.0</td>\n",
       "      <td>5.5</td>\n",
       "      <td>1.8</td>\n",
       "    </tr>\n",
       "    <tr>\n",
       "      <th>2</th>\n",
       "      <td>6.5</td>\n",
       "      <td>3.0</td>\n",
       "      <td>5.8</td>\n",
       "      <td>2.2</td>\n",
       "    </tr>\n",
       "    <tr>\n",
       "      <th>3</th>\n",
       "      <td>6.0</td>\n",
       "      <td>2.2</td>\n",
       "      <td>5.0</td>\n",
       "      <td>1.5</td>\n",
       "    </tr>\n",
       "    <tr>\n",
       "      <th>4</th>\n",
       "      <td>6.6</td>\n",
       "      <td>3.0</td>\n",
       "      <td>4.4</td>\n",
       "      <td>1.4</td>\n",
       "    </tr>\n",
       "  </tbody>\n",
       "</table>\n",
       "</div>"
      ],
      "text/plain": [
       "   5.4  3.0  4.5  1.5\n",
       "0  5.8  2.7  5.1  1.9\n",
       "1  6.5  3.0  5.5  1.8\n",
       "2  6.5  3.0  5.8  2.2\n",
       "3  6.0  2.2  5.0  1.5\n",
       "4  6.6  3.0  4.4  1.4"
      ]
     },
     "execution_count": 51,
     "metadata": {},
     "output_type": "execute_result"
    }
   ],
   "source": [
    "payload_df.head()"
   ]
  },
  {
   "cell_type": "code",
   "execution_count": null,
   "id": "53bb1145",
   "metadata": {},
   "outputs": [],
   "source": []
  },
  {
   "cell_type": "code",
   "execution_count": 56,
   "id": "f365d7a4",
   "metadata": {},
   "outputs": [
    {
     "name": "stdout",
     "output_type": "stream",
     "text": [
      "2.0,2.0,2.0,1.0,1.0,2.0,1.0,0.0,2.0,1.0,1.0,0.0,0.0,2.0,1.0,0.0,0.0,1.0,0.0,2.0,1.0,1.0,2.0,0.0,0.0,2.0,0.0,0.0,1.0\n"
     ]
    }
   ],
   "source": [
    "import io\n",
    "csv_buffer = io.StringIO() # Creates an in memory string buffer that acts like a file object\n",
    "payload_df.to_csv(csv_buffer, header=None, index=None)  # Convert a payload df and writes it into a csv_buffer\n",
    "payload_csv_text =  csv_buffer.getvalue() # Retrieve the content from buffer\n",
    "response = sgmaker_runtime.invoke_endpoint(\n",
    "    EndpointName=endpoint_name, ContentType=\"text/csv\", Body=payload_csv_text\n",
    ")\n",
    "print(response[\"Body\"].read().decode())\n"
   ]
  },
  {
   "cell_type": "markdown",
   "id": "e80c0d71",
   "metadata": {},
   "source": [
    "## Delete the endpoint"
   ]
  },
  {
   "cell_type": "code",
   "execution_count": 58,
   "id": "2e970a38",
   "metadata": {},
   "outputs": [
    {
     "data": {
      "text/plain": [
       "{'ResponseMetadata': {'RequestId': '1dd1e9c6-43b0-492f-a234-eb96a6b83711',\n",
       "  'HTTPStatusCode': 200,\n",
       "  'HTTPHeaders': {'x-amzn-requestid': '1dd1e9c6-43b0-492f-a234-eb96a6b83711',\n",
       "   'content-type': 'application/x-amz-json-1.1',\n",
       "   'date': 'Thu, 26 Sep 2024 05:58:36 GMT',\n",
       "   'content-length': '0'},\n",
       "  'RetryAttempts': 0}}"
      ]
     },
     "execution_count": 58,
     "metadata": {},
     "output_type": "execute_result"
    }
   ],
   "source": [
    "sgm_clnt = boto3.client(\"sagemaker\")\n",
    "sgm_clnt.delete_endpoint(EndpointName=endpoint_name)"
   ]
  },
  {
   "cell_type": "markdown",
   "id": "f4481193",
   "metadata": {},
   "source": [
    "## Batch Transform"
   ]
  },
  {
   "cell_type": "code",
   "execution_count": 59,
   "id": "dfa41185",
   "metadata": {},
   "outputs": [],
   "source": [
    "batch_ip = \"s3://{}/{}/{}\".format(bucket, prefix, \"batch_transform\")\n",
    "batch_op = \"s3://{}/{}/{}\".format(bucket, prefix, \"batch_transform\")"
   ]
  },
  {
   "cell_type": "code",
   "execution_count": 60,
   "id": "bceeb974",
   "metadata": {},
   "outputs": [
    {
     "name": "stdout",
     "output_type": "stream",
     "text": [
      "s3://sagemakerlearningwithiris/iris/batch_transform\n"
     ]
    }
   ],
   "source": [
    "print(batch_ip)"
   ]
  },
  {
   "cell_type": "code",
   "execution_count": 62,
   "id": "57babd24",
   "metadata": {},
   "outputs": [
    {
     "name": "stdout",
     "output_type": "stream",
     "text": [
      "2024-09-25 19:10:23        480 iris/batch_transform/iris_infer.csv\r\n"
     ]
    }
   ],
   "source": [
    "!aws s3 ls {batch_ip} --recursive"
   ]
  },
  {
   "cell_type": "code",
   "execution_count": 63,
   "id": "509b2837",
   "metadata": {},
   "outputs": [
    {
     "name": "stderr",
     "output_type": "stream",
     "text": [
      "INFO:sagemaker:Creating model with name: iris-xgboost-2024-09-26-06-03-32-447\n"
     ]
    }
   ],
   "source": [
    "transformer = xgb_model.transformer(\n",
    "    instance_count=1, instance_type=\"ml.m4.xlarge\", output_path=batch_op\n",
    ")"
   ]
  },
  {
   "cell_type": "code",
   "execution_count": 64,
   "id": "acf24883",
   "metadata": {},
   "outputs": [
    {
     "name": "stdout",
     "output_type": "stream",
     "text": [
      "<sagemaker.transformer.Transformer object at 0x7f6dd3ef9ba0>\n"
     ]
    }
   ],
   "source": [
    "print(transformer)"
   ]
  },
  {
   "cell_type": "code",
   "execution_count": 65,
   "id": "8d56b535",
   "metadata": {},
   "outputs": [
    {
     "name": "stderr",
     "output_type": "stream",
     "text": [
      "INFO:sagemaker:Creating transform job with name: iris-xgboost-2024-09-26-06-07-32-720\n"
     ]
    },
    {
     "name": "stdout",
     "output_type": "stream",
     "text": [
      ".......................................\n",
      "\u001b[34mArguments: serve\u001b[0m\n",
      "\u001b[34m[2024-09-26 06:14:07 +0000] [1] [INFO] Starting gunicorn 19.9.0\u001b[0m\n",
      "\u001b[34m[2024-09-26 06:14:07 +0000] [1] [INFO] Listening at: http://0.0.0.0:8080 (1)\u001b[0m\n",
      "\u001b[34m[2024-09-26 06:14:07 +0000] [1] [INFO] Using worker: gevent\u001b[0m\n",
      "\u001b[34m[2024-09-26 06:14:07 +0000] [21] [INFO] Booting worker with pid: 21\u001b[0m\n",
      "\u001b[34m[2024-09-26 06:14:07 +0000] [22] [INFO] Booting worker with pid: 22\u001b[0m\n",
      "\u001b[34m/opt/amazon/lib/python3.7/site-packages/gunicorn/workers/ggevent.py:65: MonkeyPatchWarning: Monkey-patching ssl after ssl has already been imported may lead to errors, including RecursionError on Python 3.6. It may also silently lead to incorrect behaviour on Python 3.7. Please monkey-patch earlier. See https://github.com/gevent/gevent/issues/1016. Modules that had direct imports (NOT patched): ['urllib3.util.ssl_ (/opt/amazon/lib/python3.7/site-packages/urllib3/util/ssl_.py)', 'urllib3.util (/opt/amazon/lib/python3.7/site-packages/urllib3/util/__init__.py)']. \n",
      "  monkey.patch_all(subprocess=True)\u001b[0m\n",
      "\u001b[34m[2024-09-26:06:14:07:INFO] Model loaded successfully for worker : 21\u001b[0m\n",
      "\u001b[34m[2024-09-26 06:14:07 +0000] [23] [INFO] Booting worker with pid: 23\u001b[0m\n",
      "\u001b[34m/opt/amazon/lib/python3.7/site-packages/gunicorn/workers/ggevent.py:65: MonkeyPatchWarning: Monkey-patching ssl after ssl has already been imported may lead to errors, including RecursionError on Python 3.6. It may also silently lead to incorrect behaviour on Python 3.7. Please monkey-patch earlier. See https://github.com/gevent/gevent/issues/1016. Modules that had direct imports (NOT patched): ['urllib3.util.ssl_ (/opt/amazon/lib/python3.7/site-packages/urllib3/util/ssl_.py)', 'urllib3.util (/opt/amazon/lib/python3.7/site-packages/urllib3/util/__init__.py)']. \n",
      "  monkey.patch_all(subprocess=True)\u001b[0m\n",
      "\u001b[34m[2024-09-26:06:14:07:INFO] Model loaded successfully for worker : 22\u001b[0m\n",
      "\u001b[34m/opt/amazon/lib/python3.7/site-packages/gunicorn/workers/ggevent.py:65: MonkeyPatchWarning: Monkey-patching ssl after ssl has already been imported may lead to errors, including RecursionError on Python 3.6. It may also silently lead to incorrect behaviour on Python 3.7. Please monkey-patch earlier. See https://github.com/gevent/gevent/issues/1016. Modules that had direct imports (NOT patched): ['urllib3.util.ssl_ (/opt/amazon/lib/python3.7/site-packages/urllib3/util/ssl_.py)', 'urllib3.util (/opt/amazon/lib/python3.7/site-packages/urllib3/util/__init__.py)']. \n",
      "  monkey.patch_all(subprocess=True)\u001b[0m\n",
      "\u001b[34m[2024-09-26:06:14:07:INFO] Model loaded successfully for worker : 23\u001b[0m\n",
      "\u001b[34m[2024-09-26 06:14:07 +0000] [24] [INFO] Booting worker with pid: 24\u001b[0m\n",
      "\u001b[34m/opt/amazon/lib/python3.7/site-packages/gunicorn/workers/ggevent.py:65: MonkeyPatchWarning: Monkey-patching ssl after ssl has already been imported may lead to errors, including RecursionError on Python 3.6. It may also silently lead to incorrect behaviour on Python 3.7. Please monkey-patch earlier. See https://github.com/gevent/gevent/issues/1016. Modules that had direct imports (NOT patched): ['urllib3.util.ssl_ (/opt/amazon/lib/python3.7/site-packages/urllib3/util/ssl_.py)', 'urllib3.util (/opt/amazon/lib/python3.7/site-packages/urllib3/util/__init__.py)']. \n",
      "  monkey.patch_all(subprocess=True)\u001b[0m\n",
      "\u001b[34m[2024-09-26:06:14:07:INFO] Model loaded successfully for worker : 24\u001b[0m\n",
      "\u001b[34m[2024-09-26:06:14:10:INFO] Sniff delimiter as ','\u001b[0m\n",
      "\u001b[34m[2024-09-26:06:14:10:INFO] Determined delimiter of CSV input is ','\u001b[0m\n",
      "\u001b[32m2024-09-26T06:14:10.651:[sagemaker logs]: MaxConcurrentTransforms=4, MaxPayloadInMB=6, BatchStrategy=MULTI_RECORD\u001b[0m\n",
      "\u001b[34mArguments: serve\u001b[0m\n",
      "\u001b[35mArguments: serve\u001b[0m\n",
      "\u001b[34m[2024-09-26 06:14:07 +0000] [1] [INFO] Starting gunicorn 19.9.0\u001b[0m\n",
      "\u001b[34m[2024-09-26 06:14:07 +0000] [1] [INFO] Listening at: http://0.0.0.0:8080 (1)\u001b[0m\n",
      "\u001b[34m[2024-09-26 06:14:07 +0000] [1] [INFO] Using worker: gevent\u001b[0m\n",
      "\u001b[34m[2024-09-26 06:14:07 +0000] [21] [INFO] Booting worker with pid: 21\u001b[0m\n",
      "\u001b[34m[2024-09-26 06:14:07 +0000] [22] [INFO] Booting worker with pid: 22\u001b[0m\n",
      "\u001b[34m/opt/amazon/lib/python3.7/site-packages/gunicorn/workers/ggevent.py:65: MonkeyPatchWarning: Monkey-patching ssl after ssl has already been imported may lead to errors, including RecursionError on Python 3.6. It may also silently lead to incorrect behaviour on Python 3.7. Please monkey-patch earlier. See https://github.com/gevent/gevent/issues/1016. Modules that had direct imports (NOT patched): ['urllib3.util.ssl_ (/opt/amazon/lib/python3.7/site-packages/urllib3/util/ssl_.py)', 'urllib3.util (/opt/amazon/lib/python3.7/site-packages/urllib3/util/__init__.py)']. \n",
      "  monkey.patch_all(subprocess=True)\u001b[0m\n",
      "\u001b[34m[2024-09-26:06:14:07:INFO] Model loaded successfully for worker : 21\u001b[0m\n",
      "\u001b[34m[2024-09-26 06:14:07 +0000] [23] [INFO] Booting worker with pid: 23\u001b[0m\n",
      "\u001b[34m/opt/amazon/lib/python3.7/site-packages/gunicorn/workers/ggevent.py:65: MonkeyPatchWarning: Monkey-patching ssl after ssl has already been imported may lead to errors, including RecursionError on Python 3.6. It may also silently lead to incorrect behaviour on Python 3.7. Please monkey-patch earlier. See https://github.com/gevent/gevent/issues/1016. Modules that had direct imports (NOT patched): ['urllib3.util.ssl_ (/opt/amazon/lib/python3.7/site-packages/urllib3/util/ssl_.py)', 'urllib3.util (/opt/amazon/lib/python3.7/site-packages/urllib3/util/__init__.py)']. \n",
      "  monkey.patch_all(subprocess=True)\u001b[0m\n",
      "\u001b[34m[2024-09-26:06:14:07:INFO] Model loaded successfully for worker : 22\u001b[0m\n",
      "\u001b[34m/opt/amazon/lib/python3.7/site-packages/gunicorn/workers/ggevent.py:65: MonkeyPatchWarning: Monkey-patching ssl after ssl has already been imported may lead to errors, including RecursionError on Python 3.6. It may also silently lead to incorrect behaviour on Python 3.7. Please monkey-patch earlier. See https://github.com/gevent/gevent/issues/1016. Modules that had direct imports (NOT patched): ['urllib3.util.ssl_ (/opt/amazon/lib/python3.7/site-packages/urllib3/util/ssl_.py)', 'urllib3.util (/opt/amazon/lib/python3.7/site-packages/urllib3/util/__init__.py)']. \n",
      "  monkey.patch_all(subprocess=True)\u001b[0m\n",
      "\u001b[34m[2024-09-26:06:14:07:INFO] Model loaded successfully for worker : 23\u001b[0m\n",
      "\u001b[34m[2024-09-26 06:14:07 +0000] [24] [INFO] Booting worker with pid: 24\u001b[0m\n",
      "\u001b[34m/opt/amazon/lib/python3.7/site-packages/gunicorn/workers/ggevent.py:65: MonkeyPatchWarning: Monkey-patching ssl after ssl has already been imported may lead to errors, including RecursionError on Python 3.6. It may also silently lead to incorrect behaviour on Python 3.7. Please monkey-patch earlier. See https://github.com/gevent/gevent/issues/1016. Modules that had direct imports (NOT patched): ['urllib3.util.ssl_ (/opt/amazon/lib/python3.7/site-packages/urllib3/util/ssl_.py)', 'urllib3.util (/opt/amazon/lib/python3.7/site-packages/urllib3/util/__init__.py)']. \n",
      "  monkey.patch_all(subprocess=True)\u001b[0m\n",
      "\u001b[34m[2024-09-26:06:14:07:INFO] Model loaded successfully for worker : 24\u001b[0m\n",
      "\u001b[35m[2024-09-26 06:14:07 +0000] [1] [INFO] Starting gunicorn 19.9.0\u001b[0m\n",
      "\u001b[35m[2024-09-26 06:14:07 +0000] [1] [INFO] Listening at: http://0.0.0.0:8080 (1)\u001b[0m\n",
      "\u001b[35m[2024-09-26 06:14:07 +0000] [1] [INFO] Using worker: gevent\u001b[0m\n",
      "\u001b[35m[2024-09-26 06:14:07 +0000] [21] [INFO] Booting worker with pid: 21\u001b[0m\n",
      "\u001b[35m[2024-09-26 06:14:07 +0000] [22] [INFO] Booting worker with pid: 22\u001b[0m\n",
      "\u001b[35m/opt/amazon/lib/python3.7/site-packages/gunicorn/workers/ggevent.py:65: MonkeyPatchWarning: Monkey-patching ssl after ssl has already been imported may lead to errors, including RecursionError on Python 3.6. It may also silently lead to incorrect behaviour on Python 3.7. Please monkey-patch earlier. See https://github.com/gevent/gevent/issues/1016. Modules that had direct imports (NOT patched): ['urllib3.util.ssl_ (/opt/amazon/lib/python3.7/site-packages/urllib3/util/ssl_.py)', 'urllib3.util (/opt/amazon/lib/python3.7/site-packages/urllib3/util/__init__.py)']. \n",
      "  monkey.patch_all(subprocess=True)\u001b[0m\n",
      "\u001b[35m[2024-09-26:06:14:07:INFO] Model loaded successfully for worker : 21\u001b[0m\n",
      "\u001b[35m[2024-09-26 06:14:07 +0000] [23] [INFO] Booting worker with pid: 23\u001b[0m\n",
      "\u001b[35m/opt/amazon/lib/python3.7/site-packages/gunicorn/workers/ggevent.py:65: MonkeyPatchWarning: Monkey-patching ssl after ssl has already been imported may lead to errors, including RecursionError on Python 3.6. It may also silently lead to incorrect behaviour on Python 3.7. Please monkey-patch earlier. See https://github.com/gevent/gevent/issues/1016. Modules that had direct imports (NOT patched): ['urllib3.util.ssl_ (/opt/amazon/lib/python3.7/site-packages/urllib3/util/ssl_.py)', 'urllib3.util (/opt/amazon/lib/python3.7/site-packages/urllib3/util/__init__.py)']. \n",
      "  monkey.patch_all(subprocess=True)\u001b[0m\n",
      "\u001b[35m[2024-09-26:06:14:07:INFO] Model loaded successfully for worker : 22\u001b[0m\n",
      "\u001b[35m/opt/amazon/lib/python3.7/site-packages/gunicorn/workers/ggevent.py:65: MonkeyPatchWarning: Monkey-patching ssl after ssl has already been imported may lead to errors, including RecursionError on Python 3.6. It may also silently lead to incorrect behaviour on Python 3.7. Please monkey-patch earlier. See https://github.com/gevent/gevent/issues/1016. Modules that had direct imports (NOT patched): ['urllib3.util.ssl_ (/opt/amazon/lib/python3.7/site-packages/urllib3/util/ssl_.py)', 'urllib3.util (/opt/amazon/lib/python3.7/site-packages/urllib3/util/__init__.py)']. \n",
      "  monkey.patch_all(subprocess=True)\u001b[0m\n",
      "\u001b[35m[2024-09-26:06:14:07:INFO] Model loaded successfully for worker : 23\u001b[0m\n",
      "\u001b[35m[2024-09-26 06:14:07 +0000] [24] [INFO] Booting worker with pid: 24\u001b[0m\n",
      "\u001b[35m/opt/amazon/lib/python3.7/site-packages/gunicorn/workers/ggevent.py:65: MonkeyPatchWarning: Monkey-patching ssl after ssl has already been imported may lead to errors, including RecursionError on Python 3.6. It may also silently lead to incorrect behaviour on Python 3.7. Please monkey-patch earlier. See https://github.com/gevent/gevent/issues/1016. Modules that had direct imports (NOT patched): ['urllib3.util.ssl_ (/opt/amazon/lib/python3.7/site-packages/urllib3/util/ssl_.py)', 'urllib3.util (/opt/amazon/lib/python3.7/site-packages/urllib3/util/__init__.py)']. \n",
      "  monkey.patch_all(subprocess=True)\u001b[0m\n",
      "\u001b[35m[2024-09-26:06:14:07:INFO] Model loaded successfully for worker : 24\u001b[0m\n",
      "\u001b[34m[2024-09-26:06:14:10:INFO] Sniff delimiter as ','\u001b[0m\n",
      "\u001b[34m[2024-09-26:06:14:10:INFO] Determined delimiter of CSV input is ','\u001b[0m\n",
      "\u001b[35m[2024-09-26:06:14:10:INFO] Sniff delimiter as ','\u001b[0m\n",
      "\u001b[35m[2024-09-26:06:14:10:INFO] Determined delimiter of CSV input is ','\u001b[0m\n",
      "\u001b[32m2024-09-26T06:14:10.651:[sagemaker logs]: MaxConcurrentTransforms=4, MaxPayloadInMB=6, BatchStrategy=MULTI_RECORD\u001b[0m\n"
     ]
    }
   ],
   "source": [
    "transformer.transform(\n",
    "    data=batch_ip, data_type=\"S3Prefix\", content_type=\"text/csv\", split_type=\"Line\"\n",
    ")\n",
    "transformer.wait()"
   ]
  },
  {
   "cell_type": "code",
   "execution_count": 66,
   "id": "49f0f3a9",
   "metadata": {},
   "outputs": [
    {
     "name": "stdout",
     "output_type": "stream",
     "text": [
      "2024-09-25 19:10:23        480 iris/batch_transform/iris_infer.csv\r\n",
      "2024-09-26 06:14:11        120 iris/batch_transform/iris_infer.csv.out\r\n"
     ]
    }
   ],
   "source": [
    "!aws s3 ls s3://{bucket}/{prefix}/batch_transform/ --recursive"
   ]
  },
  {
   "cell_type": "code",
   "execution_count": 72,
   "id": "614244e0",
   "metadata": {},
   "outputs": [
    {
     "name": "stdout",
     "output_type": "stream",
     "text": [
      "download: s3://sagemakerlearningwithiris/iris/batch_transform/iris_infer.csv.out to ./iris_infer.csv.out\r\n"
     ]
    }
   ],
   "source": [
    "!aws s3 cp s3://{bucket}/{prefix}/batch_transform/iris_infer.csv.out . "
   ]
  },
  {
   "cell_type": "code",
   "execution_count": 74,
   "id": "681c8697",
   "metadata": {},
   "outputs": [
    {
     "name": "stdout",
     "output_type": "stream",
     "text": [
      "head: 5iris_infer.csv.out: invalid number of lines\r\n"
     ]
    }
   ],
   "source": [
    "!head  -n 5iris_infer.csv.out"
   ]
  },
  {
   "cell_type": "code",
   "execution_count": null,
   "id": "b18259a2",
   "metadata": {},
   "outputs": [],
   "source": []
  }
 ],
 "metadata": {
  "kernelspec": {
   "display_name": "conda_python3",
   "language": "python",
   "name": "conda_python3"
  },
  "language_info": {
   "codemirror_mode": {
    "name": "ipython",
    "version": 3
   },
   "file_extension": ".py",
   "mimetype": "text/x-python",
   "name": "python",
   "nbconvert_exporter": "python",
   "pygments_lexer": "ipython3",
   "version": "3.10.14"
  }
 },
 "nbformat": 4,
 "nbformat_minor": 5
}
